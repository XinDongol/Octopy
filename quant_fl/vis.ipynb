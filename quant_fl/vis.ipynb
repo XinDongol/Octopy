{
 "cells": [
  {
   "cell_type": "code",
   "execution_count": 1,
   "metadata": {},
   "outputs": [],
   "source": [
    "%load_ext autoreload\n",
    "%autoreload 2"
   ]
  },
  {
   "cell_type": "code",
   "execution_count": 2,
   "metadata": {},
   "outputs": [],
   "source": [
    "import quant\n",
    "import numpy as np\n",
    "import torch\n",
    "from copy import deepcopy\n",
    "import seaborn as sns\n",
    "import matplotlib\n",
    "import matplotlib.pyplot as plt\n",
    "matplotlib.rcParams.update({'font.size': 22})\n",
    "matplotlib.rc('lines', linewidth=4.0)\n",
    "matplotlib.rcParams['lines.markersize'] = 13\n",
    "\n",
    "sns.set_style('whitegrid')\n",
    "from random import randint \n",
    "import glob, os"
   ]
  },
  {
   "cell_type": "code",
   "execution_count": 3,
   "metadata": {},
   "outputs": [],
   "source": [
    "file_name = glob.glob('/project/kung/xin/fl_saved_model/*.pt')\n",
    "id_to_file = {}\n",
    "for name in file_name:\n",
    "    if 'global' not in name:\n",
    "        if 'start' in name:\n",
    "            print('Found start model!')\n",
    "            round_id = '-1'\n",
    "            id_to_file['G-'+round_id] = torch.load(name, map_location='cpu')            \n",
    "        else:\n",
    "            round_id = name[39:41]\n",
    "            device_id = name[44:46]\n",
    "            id_to_file[round_id+'---'+device_id] = torch.load(name, map_location='cpu')\n",
    "    else:\n",
    "        round_id = name[39:41]\n",
    "        id_to_file['G-'+round_id] = torch.load(name, map_location='cpu')\n",
    "        "
   ]
  },
  {
   "cell_type": "code",
   "execution_count": 4,
   "metadata": {},
   "outputs": [],
   "source": [
    "def diff_state_dict(old, new, keys):\n",
    "    diff = {}\n",
    "    for k in keys:\n",
    "        diff[k] = new[k] - old[k]\n",
    "    return diff"
   ]
  },
  {
   "cell_type": "code",
   "execution_count": 5,
   "metadata": {},
   "outputs": [
    {
     "ename": "ValueError",
     "evalue": "max() arg is an empty sequence",
     "output_type": "error",
     "traceback": [
      "\u001b[0;31m---------------------------------------------------------------------------\u001b[0m",
      "\u001b[0;31mValueError\u001b[0m                                Traceback (most recent call last)",
      "\u001b[0;32m<ipython-input-5-31c178f8ee88>\u001b[0m in \u001b[0;36m<module>\u001b[0;34m\u001b[0m\n\u001b[0;32m----> 1\u001b[0;31m \u001b[0mprint\u001b[0m\u001b[0;34m(\u001b[0m\u001b[0mmax\u001b[0m\u001b[0;34m(\u001b[0m\u001b[0;34m[\u001b[0m\u001b[0mi\u001b[0m \u001b[0;32mfor\u001b[0m \u001b[0mi\u001b[0m \u001b[0;32min\u001b[0m \u001b[0mid_to_file\u001b[0m\u001b[0;34m.\u001b[0m\u001b[0mkeys\u001b[0m\u001b[0;34m(\u001b[0m\u001b[0;34m)\u001b[0m \u001b[0;32mif\u001b[0m \u001b[0;34m'G'\u001b[0m \u001b[0;32min\u001b[0m \u001b[0mi\u001b[0m\u001b[0;34m]\u001b[0m\u001b[0;34m)\u001b[0m\u001b[0;34m)\u001b[0m\u001b[0;34m\u001b[0m\u001b[0;34m\u001b[0m\u001b[0m\n\u001b[0m\u001b[1;32m      2\u001b[0m \u001b[0mprint\u001b[0m\u001b[0;34m(\u001b[0m\u001b[0mlist\u001b[0m\u001b[0;34m(\u001b[0m\u001b[0mid_to_file\u001b[0m\u001b[0;34m[\u001b[0m\u001b[0;34m'G--1'\u001b[0m\u001b[0;34m]\u001b[0m\u001b[0;34m[\u001b[0m\u001b[0;34m'net'\u001b[0m\u001b[0;34m]\u001b[0m\u001b[0;34m.\u001b[0m\u001b[0mkeys\u001b[0m\u001b[0;34m(\u001b[0m\u001b[0;34m)\u001b[0m\u001b[0;34m)\u001b[0m\u001b[0;34m)\u001b[0m\u001b[0;34m\u001b[0m\u001b[0;34m\u001b[0m\u001b[0m\n",
      "\u001b[0;31mValueError\u001b[0m: max() arg is an empty sequence"
     ]
    }
   ],
   "source": [
    "print(max([i for i in id_to_file.keys() if 'G' in i]))\n",
    "print(list(id_to_file['G--1']['net'].keys()))"
   ]
  },
  {
   "cell_type": "code",
   "execution_count": null,
   "metadata": {},
   "outputs": [],
   "source": [
    "print(sorted([i for i in id_to_file.keys() if '---00' in i]))\n",
    "print('--'*30)\n",
    "print(sorted([i for i in id_to_file.keys() if '00---' in i]))"
   ]
  },
  {
   "cell_type": "code",
   "execution_count": null,
   "metadata": {},
   "outputs": [],
   "source": [
    "round_id_list = sorted([int(i[:2]) for i in id_to_file.keys() if '---00' in i])\n",
    "print(round_id_list)\n",
    "change_list = []\n",
    "local_acc_list = []\n",
    "global_acc_list = []\n",
    "\n",
    "global_list = []  # start from 'start'\n",
    "local_list  = []\n",
    "for i in round_id_list:\n",
    "    local_list.append(id_to_file[f'{i:02}---00']['net'])\n",
    "    global_list.append(id_to_file[f'G-{i-1:02}']['net'])\n",
    "    change_list.append(diff_state_dict(old=id_to_file[f'G-{i-1:02}']['net'],\n",
    "                                       new=id_to_file[f'{i:02}---00']['net'],\n",
    "                                       keys=['model.0.0.weight']))\n",
    "    local_acc_list.append(id_to_file[f'{i:02}---00']['local_acc'])\n",
    "     \n",
    "    g_acc = id_to_file[f'G-{i-1:02}']['global_acc'] if 'global_acc' in id_to_file[f'G-{i-1:02}'].keys() else 0.0\n",
    "    global_acc_list.append(g_acc)\n",
    "    "
   ]
  },
  {
   "cell_type": "code",
   "execution_count": null,
   "metadata": {},
   "outputs": [],
   "source": [
    "change_list[0]['model.0.0.weight'].size()"
   ]
  },
  {
   "cell_type": "code",
   "execution_count": null,
   "metadata": {},
   "outputs": [],
   "source": [
    "plt.figure(figsize=(38,8))\n",
    "plt.plot(round_id_list, local_acc_list, label='Local')\n",
    "plt.plot(round_id_list, global_acc_list, label='Golbal')\n",
    "plt.legend()\n",
    "plt.title('Local and Global Acc')\n",
    "\n",
    "plt.figure(figsize=(38,8))\n",
    "for j in range(5):\n",
    "    e,f,g,h = int(j),int(randint(0,2)),int(randint(0,2)),int(randint(0,2))\n",
    "    plt.plot(round_id_list, \n",
    "             [i['model.0.0.weight'][e,f,g,h].item() for i in change_list], \n",
    "             )\n",
    "    \n",
    "plt.figure(figsize=(38,8))\n",
    "for j in range(5):\n",
    "    e,f,g,h = int(j),int(randint(0,2)),int(randint(0,2)),int(randint(0,2))\n",
    "    print\n",
    "    p = plt.plot(round_id_list, \n",
    "             [i['model.0.0.weight'][e,f,g,h].item() for i in global_list], '--',\n",
    "             label='Global')\n",
    "    plt.scatter(round_id_list, \n",
    "             [i['model.0.0.weight'][e,f,g,h].item() for i in local_list], color=p[-1].get_color(),\n",
    "             label='Local')\n",
    "    plt.legend()\n",
    "    plt.title('Local and Global Acc Weights')"
   ]
  },
  {
   "cell_type": "code",
   "execution_count": null,
   "metadata": {},
   "outputs": [],
   "source": [
    "round_id_list = sorted([int(i[:2]) for i in id_to_file.keys() if '---00' in i])\n",
    "print(round_id_list)\n",
    "change_list = []\n",
    "\n",
    "\n",
    "for i in round_id_list:\n",
    "    change_list.append(diff_state_dict(old=id_to_file[f'G-{i-1:02}']['net'],\n",
    "                                       new=id_to_file[f'{i:02}---00']['net'],\n",
    "                                       keys=id_to_file[f'G-{i-1:02}']['net'].keys()))\n"
   ]
  },
  {
   "cell_type": "code",
   "execution_count": null,
   "metadata": {},
   "outputs": [],
   "source": [
    "plt.figure(figsize=(38,8))\n",
    "\n",
    "sns.histplot(change_list[30]['model.0.0.weight'].numpy().flatten(), stat='density', bins=100, color='b', alpha=0.3, label='0', element='step')\n",
    "sns.histplot(change_list[30]['model.2.0.weight'].numpy().flatten(), stat='density', bins=100, color='g', alpha=0.3, label='2', element='step')\n",
    "sns.histplot(change_list[30]['model.4.0.weight'].numpy().flatten(), stat='density', bins=100, color='r', alpha=0.3, label='4', element='step')\n",
    "sns.histplot(change_list[30]['model.6.0.weight'].numpy().flatten(), stat='density', bins=100, color='c', alpha=0.3, label='6', element='step')\n",
    "sns.histplot(change_list[30]['model.8.0.weight'].numpy().flatten(), stat='density', bins=100, color='m', alpha=0.3, label='8', element='step')\n",
    "plt.legend()"
   ]
  },
  {
   "cell_type": "code",
   "execution_count": null,
   "metadata": {},
   "outputs": [],
   "source": [
    "global_start = []\n",
    "global_end   = []\n",
    "\n",
    "devices = []\n",
    "devices_change = []\n",
    "\n",
    "for j in range(30): # loop on device\n",
    "    d = []\n",
    "    d_change = []\n",
    "    for i in range(40): # loop on round\n",
    "        d.append(id_to_file[f'{i:02}---{j:02}']['net'])\n",
    "        d_change.append(diff_state_dict(old=id_to_file[f'G-{i-1:02}']['net'],\n",
    "                                       new=id_to_file[f'{i:02}---{j:02}']['net'],\n",
    "                                       keys=id_to_file[f'G-{i-1:02}']['net'].keys()))\n",
    "    devices.append(deepcopy(d))\n",
    "    devices_change.append(deepcopy(d_change))\n",
    "    \n",
    "for i in range(40):\n",
    "    global_start.append(id_to_file[f'G-{i-1:02}']['net'])\n",
    "    global_end.append(id_to_file[f'G-{i:02}']['net'])"
   ]
  },
  {
   "cell_type": "code",
   "execution_count": null,
   "metadata": {},
   "outputs": [],
   "source": [
    "plt.figure(figsize=(38,18))\n",
    "\n",
    "wei_name = 'model.0.0.weight'\n",
    "e,d,f,j = 15,2,2,1\n",
    "\n",
    "g_s = [i[wei_name][e,d,f,j].item() for i in global_start]\n",
    "g_e = [i[wei_name][e,d,f,j].item() for i in global_end]\n",
    "\n",
    "plt.plot(range(40), g_e, '-.', label='end', linewidth=3)\n",
    "plt.plot(range(40), g_s, '--', label='start', linewidth=3)\n",
    "\n",
    "for de_idx in range(30):\n",
    "    de_color = 'b'\n",
    "    de_marker = 'o'\n",
    "    de = np.array([i[wei_name][e,d,f,j].item() for i in devices[de_idx]])\n",
    "    great = [i>j for i,j in zip(de, g_s)]\n",
    "    less =  [i<j for i,j in zip(de, g_s)]\n",
    "    plt.plot(np.arange(40)[great], de[great], marker=de_marker, linestyle='none', color=de_color, label='device %d > start'%de_idx, alpha=0.2)\n",
    "    plt.plot(np.arange(40)[less], de[less], marker=de_marker, linestyle='none', color=de_color, label='device %d < start'%de_idx, alpha=0.2)\n",
    "\n",
    "# de_idx = 1\n",
    "# de_color = 'r'\n",
    "# de_marker = '^'\n",
    "# de = np.array([i[wei_name][e,d,f,j].item() for i in devices[de_idx]])\n",
    "# great = [i>j for i,j in zip(de, g_s)]\n",
    "# less =  [i<j for i,j in zip(de, g_s)]\n",
    "# plt.plot(np.arange(40)[great], de[great], marker=de_marker, linestyle='none', color=de_color, label='device %d > start'%de_idx)\n",
    "# plt.plot(np.arange(40)[less], de[less], marker=de_marker, fillstyle='bottom', linestyle='none', color=de_color, label='device %d < start'%de_idx)\n",
    "\n",
    "# de_idx = 20\n",
    "# de_color = 'g'\n",
    "# de_marker = 's'\n",
    "# de = np.array([i[wei_name][e,d,f,j].item() for i in devices[de_idx]])\n",
    "# great = [i>j for i,j in zip(de, g_s)]\n",
    "# less =  [i<j for i,j in zip(de, g_s)]\n",
    "# plt.plot(np.arange(40)[great], de[great], marker=de_marker, linestyle='none', color=de_color, label='device %d > start'%de_idx)\n",
    "# plt.plot(np.arange(40)[less], de[less], marker=de_marker, fillstyle='bottom', linestyle='none', color=de_color, label='device %d < start'%de_idx)\n",
    "\n",
    "# de_idx = 10\n",
    "# de_color = 'c'\n",
    "# de_marker = 'X'\n",
    "# de = np.array([i[wei_name][e,d,f,j].item() for i in devices[de_idx]])\n",
    "# great = [i>j for i,j in zip(de, g_s)]\n",
    "# less =  [i<j for i,j in zip(de, g_s)]\n",
    "# plt.plot(np.arange(40)[great], de[great], marker=de_marker, linestyle='none', color=de_color, label='device %d > start'%de_idx)\n",
    "# plt.plot(np.arange(40)[less], de[less], marker=de_marker, fillstyle='bottom', linestyle='none', color=de_color, label='device %d < start'%de_idx)\n",
    "\n",
    "# de_idx = 15\n",
    "# de_color = 'm'\n",
    "# de_marker = 'p'\n",
    "# de = np.array([i[wei_name][e,d,f,j].item() for i in devices[de_idx]])\n",
    "# great = [i>j for i,j in zip(de, g_s)]\n",
    "# less =  [i<j for i,j in zip(de, g_s)]\n",
    "# plt.plot(np.arange(40)[great], de[great], marker=de_marker, linestyle='none', color=de_color, label='device %d > start'%de_idx)\n",
    "# plt.plot(np.arange(40)[less], de[less], marker=de_marker, fillstyle='bottom', linestyle='none', color=de_color, label='device %d < start'%de_idx)\n",
    "\n",
    "# de_idx = 16\n",
    "# de_color = 'y'\n",
    "# de_marker = 'D'\n",
    "# de = np.array([i[wei_name][e,d,f,j].item() for i in devices[de_idx]])\n",
    "# great = [i>j for i,j in zip(de, g_s)]\n",
    "# less =  [i<j for i,j in zip(de, g_s)]\n",
    "# plt.plot(np.arange(40)[great], de[great], marker=de_marker, linestyle='none', color=de_color, label='device %d > start'%de_idx)\n",
    "# plt.plot(np.arange(40)[less], de[less], marker=de_marker, fillstyle='bottom', linestyle='none', color=de_color, label='device %d < start'%de_idx)\n",
    "\n",
    "plt.legend()"
   ]
  },
  {
   "cell_type": "markdown",
   "metadata": {},
   "source": [
    "## Input Images"
   ]
  },
  {
   "cell_type": "code",
   "execution_count": null,
   "metadata": {},
   "outputs": [],
   "source": [
    "# import torch\n",
    "# import torch.nn as nn\n",
    "# from torch import optim\n",
    "# import torch.nn.functional as F\n",
    "# import numpy as np\n",
    "# import torchvision\n",
    "# import torchvision.transforms as transforms\n",
    "# import matplotlib.pyplot as plt\n",
    "\n",
    "# transform_test = transforms.Compose([                                           \n",
    "#     transforms.ToTensor(),\n",
    "#     transforms.Normalize((0.4914, 0.4822, 0.4465), (0.2023, 0.1994, 0.2010)),\n",
    "# ])\n",
    "# testset = torchvision.datasets.CIFAR10(root='/tmp', train=False,\n",
    "#                                        download=True,\n",
    "#                                        transform=transform_test)\n",
    "# testloader = torch.utils.data.DataLoader(testset, batch_size=10000, shuffle=False,\n",
    "#                                          num_workers=2)\n",
    "\n",
    "# for d, l in testloader:\n",
    "#     t = d.flatten().numpy()\n",
    "#     plt.figure(figsize=[15,5])\n",
    "#     plt.hist(t, bins=1000)"
   ]
  }
 ],
 "metadata": {
  "kernelspec": {
   "display_name": "Python 3",
   "language": "python",
   "name": "python3"
  },
  "language_info": {
   "codemirror_mode": {
    "name": "ipython",
    "version": 3
   },
   "file_extension": ".py",
   "mimetype": "text/x-python",
   "name": "python",
   "nbconvert_exporter": "python",
   "pygments_lexer": "ipython3",
   "version": "3.6.10"
  }
 },
 "nbformat": 4,
 "nbformat_minor": 4
}
