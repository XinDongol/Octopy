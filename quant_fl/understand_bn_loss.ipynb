{
 "cells": [
  {
   "cell_type": "code",
   "execution_count": 2,
   "metadata": {},
   "outputs": [],
   "source": [
    "from pytorchcv.model_provider import get_model as ptcv_get_model\n",
    "\n",
    "import torch\n",
    "import torch.nn as nn\n",
    "from torch import optim\n",
    "import torch.nn.functional as F\n",
    "import numpy as np\n",
    "import torchvision\n",
    "import torchvision.transforms as transforms\n",
    "from di import DeepInversionClass"
   ]
  },
  {
   "cell_type": "code",
   "execution_count": 6,
   "metadata": {},
   "outputs": [
    {
     "name": "stdout",
     "output_type": "stream",
     "text": [
      "Files already downloaded and verified\n",
      "Files already downloaded and verified\n"
     ]
    }
   ],
   "source": [
    "transform_train = transforms.Compose([\n",
    "    transforms.RandomCrop(32, padding=4),\n",
    "    transforms.RandomHorizontalFlip(),\n",
    "    transforms.ToTensor(),\n",
    "    transforms.Normalize((0.4914, 0.4822, 0.4465), (0.2023, 0.1994, 0.2010)),\n",
    "])\n",
    "\n",
    "transform_test = transforms.Compose([\n",
    "    transforms.ToTensor(),\n",
    "    transforms.Normalize((0.4914, 0.4822, 0.4465), (0.2023, 0.1994, 0.2010)),\n",
    "])\n",
    "\n",
    "trainset = torchvision.datasets.CIFAR10(\n",
    "    root='/dev/shm', train=True, download=True, transform=transform_train)\n",
    "trainloader = torch.utils.data.DataLoader(\n",
    "    trainset, batch_size=128, shuffle=True, num_workers=2)\n",
    "\n",
    "testset = torchvision.datasets.CIFAR10(\n",
    "    root='/dev/shm', train=False, download=True, transform=transform_test)\n",
    "testloader = torch.utils.data.DataLoader(\n",
    "    testset, batch_size=100, shuffle=False, num_workers=2)\n",
    "\n",
    "classes = ('plane', 'car', 'bird', 'cat', 'deer',\n",
    "           'dog', 'frog', 'horse', 'ship', 'truck')\n"
   ]
  },
  {
   "cell_type": "code",
   "execution_count": 7,
   "metadata": {},
   "outputs": [],
   "source": [
    "def test(model, loader):\n",
    "    criterion = nn.CrossEntropyLoss()\n",
    "    model.eval()\n",
    "    test_loss, correct, total = 0, 0, 0\n",
    "    with torch.no_grad():\n",
    "        for batch_idx, (inputs, targets) in enumerate(loader):\n",
    "            inputs, targets = inputs.cuda(), targets.cuda()\n",
    "            outputs = model(inputs)\n",
    "            loss = criterion(outputs, targets)\n",
    "            test_loss += loss.item()\n",
    "            \n",
    "            _, predicted = outputs.max(1)\n",
    "            total += targets.size(0)\n",
    "            correct += predicted.eq(targets).sum().item()\n",
    "            \n",
    "    loss = test_loss / (batch_idx + 1)\n",
    "    acc = 100.* correct / total\n",
    "    return loss, acc\n",
    "\n",
    "def update_bn(model, loader):\n",
    "    model.train()\n",
    "    with torch.no_grad():\n",
    "        for batch_idx, (inputs, targets) in enumerate(loader):\n",
    "            inputs, targets = inputs.cuda(), targets.cuda()\n",
    "            outputs = model(inputs)\n",
    "\n",
    "def test_on_gen(model, inputs, targets):\n",
    "    model.eval()\n",
    "    with torch.no_grad():\n",
    "        inputs, targets = inputs.cuda(), targets.cuda()\n",
    "        outputs = model(inputs)\n",
    "        _, predicted = outputs.max(1)\n",
    "        total = targets.size(0)\n",
    "        correct = predicted.eq(targets).sum().item()\n",
    "    return 100.* correct / total"
   ]
  },
  {
   "cell_type": "code",
   "execution_count": 4,
   "metadata": {},
   "outputs": [
    {
     "data": {
      "text/plain": [
       "(0.19714343681931495, 94.03)"
      ]
     },
     "execution_count": 4,
     "metadata": {},
     "output_type": "execute_result"
    }
   ],
   "source": [
    "teacher = ptcv_get_model('resnet20_cifar10', pretrained=True).cuda()\n",
    "test(teacher, testloader)"
   ]
  },
  {
   "cell_type": "code",
   "execution_count": 5,
   "metadata": {},
   "outputs": [
    {
     "data": {
      "text/plain": [
       "(0.3114712432026863, 92.57)"
      ]
     },
     "execution_count": 5,
     "metadata": {},
     "output_type": "execute_result"
    }
   ],
   "source": [
    "student = ptcv_get_model('nin_cifar10', pretrained=True).cuda()\n",
    "test(student, testloader)"
   ]
  },
  {
   "cell_type": "code",
   "execution_count": 6,
   "metadata": {},
   "outputs": [],
   "source": [
    "inv_batchsize = 100"
   ]
  },
  {
   "cell_type": "code",
   "execution_count": 7,
   "metadata": {},
   "outputs": [
    {
     "name": "stdout",
     "output_type": "stream",
     "text": [
      "-------------------- 2000 ------------------\n",
      "R_feature: 7.598e+00, R_cross: 1.431e-02, R_total: 7.663e+00\n",
      "-------------------- 4000 ------------------\n",
      "R_feature: 6.014e+00, R_cross: 1.546e-02, R_total: 6.081e+00\n",
      "100.0\n",
      "89.0\n"
     ]
    }
   ],
   "source": [
    "di= DeepInversionClass(bs=inv_batchsize, net_teacher=teacher, path='./test')\n",
    "di.bn_reg_scale = 1.0\n",
    "inv_image, inv_target = di.get_images(net_student=None, \n",
    "                                      reset_inputs=True, reset_targets=True, reset_opt=True, iterations_per_layer=4000, quant_input=False)\n",
    "\n",
    "print(test_on_gen(teacher, inv_image, inv_target))\n",
    "print(test_on_gen(student, inv_image, inv_target))"
   ]
  },
  {
   "cell_type": "code",
   "execution_count": 8,
   "metadata": {},
   "outputs": [
    {
     "name": "stdout",
     "output_type": "stream",
     "text": [
      "-------------------- 2000 ------------------\n",
      "R_feature: 9.293e+01, R_cross: 2.859e-05, R_total: 7.943e-03\n",
      "-------------------- 4000 ------------------\n",
      "R_feature: 9.187e+01, R_cross: 8.090e-05, R_total: 1.079e-02\n",
      "100.0\n",
      "14.0\n"
     ]
    }
   ],
   "source": [
    "di= DeepInversionClass(bs=inv_batchsize, net_teacher=teacher, path='./test')\n",
    "di.bn_reg_scale = 0.0\n",
    "inv_image, inv_target = di.get_images(net_student=None, \n",
    "                                      reset_inputs=True, reset_targets=True, reset_opt=True, iterations_per_layer=4000, quant_input=False)\n",
    "\n",
    "print(test_on_gen(teacher, inv_image, inv_target))\n",
    "print(test_on_gen(student, inv_image, inv_target))"
   ]
  },
  {
   "cell_type": "code",
   "execution_count": 8,
   "metadata": {},
   "outputs": [
    {
     "name": "stdout",
     "output_type": "stream",
     "text": [
      "(26.241160984039308, 11.76)\n",
      "tensor([0., 0., 0., 0., 0., 0., 0., 0., 0., 0., 0., 0., 0., 0., 0., 0.],\n",
      "       device='cuda:0')\n",
      "0 (2.5009267210960386, 9.65)\n",
      "tensor([-0.4132, -0.3816,  0.0317,  0.1204,  0.5954, -0.3230, -1.2533,  0.0660,\n",
      "        -0.4014, -0.2019,  0.0796, -0.6648, -0.1595, -0.1209,  0.0655,  0.2131],\n",
      "       device='cuda:0')\n",
      "1 (2.4947407603263856, 9.65)\n",
      "tensor([-0.3717, -0.3412,  0.0327,  0.1074,  0.5356, -0.2870, -1.1218,  0.0641,\n",
      "        -0.3584, -0.1816,  0.0687, -0.6014, -0.1338, -0.1084,  0.0554,  0.1898],\n",
      "       device='cuda:0')\n",
      "2 (2.5012975192070006, 9.69)\n",
      "tensor([-0.4237, -0.3897,  0.0227,  0.1210,  0.6046, -0.3345, -1.2824,  0.0610,\n",
      "        -0.4102, -0.2058,  0.0854, -0.6796, -0.1661, -0.1238,  0.0684,  0.2159],\n",
      "       device='cuda:0')\n",
      "3 (2.497236740589142, 9.71)\n",
      "tensor([-0.4044, -0.3771,  0.0337,  0.1154,  0.5808, -0.3055, -1.2206,  0.0651,\n",
      "        -0.3916, -0.1964,  0.0775, -0.6560, -0.1433, -0.1190,  0.0554,  0.2022],\n",
      "       device='cuda:0')\n",
      "4 (2.502112386226654, 9.66)\n",
      "tensor([-0.3912, -0.3574,  0.0190,  0.1096,  0.5596, -0.3105, -1.1814,  0.0529,\n",
      "        -0.3755, -0.1934,  0.0778, -0.6293, -0.1523, -0.1145,  0.0646,  0.1929],\n",
      "       device='cuda:0')\n",
      "5 (2.500471315383911, 9.71)\n",
      "tensor([-0.4118, -0.3757,  0.0323,  0.1206,  0.5997, -0.3342, -1.2544,  0.0633,\n",
      "        -0.3999, -0.2009,  0.0768, -0.6572, -0.1686, -0.1222,  0.0713,  0.2137],\n",
      "       device='cuda:0')\n",
      "6 (2.5034693837165833, 9.65)\n",
      "tensor([-0.4187, -0.3875,  0.0280,  0.1207,  0.5957, -0.3206, -1.2634,  0.0661,\n",
      "        -0.4056, -0.2042,  0.0834, -0.6756, -0.1564, -0.1209,  0.0636,  0.2139],\n",
      "       device='cuda:0')\n",
      "7 (2.4959280371665953, 9.69)\n",
      "tensor([-0.4014, -0.3776,  0.0391,  0.1181,  0.5700, -0.2885, -1.2061,  0.0749,\n",
      "        -0.3900, -0.1955,  0.0780, -0.6560, -0.1326, -0.1141,  0.0507,  0.2070],\n",
      "       device='cuda:0')\n",
      "8 (2.4964308452606203, 9.69)\n",
      "tensor([-0.3892, -0.3604,  0.0409,  0.1140,  0.5687, -0.3004, -1.1809,  0.0678,\n",
      "        -0.3775, -0.1911,  0.0695, -0.6293, -0.1432, -0.1151,  0.0581,  0.1990],\n",
      "       device='cuda:0')\n",
      "9 (2.5013410902023314, 9.71)\n",
      "tensor([-0.4088, -0.3830,  0.0369,  0.1192,  0.5845, -0.3029, -1.2325,  0.0704,\n",
      "        -0.3972, -0.1989,  0.0790, -0.6639, -0.1437, -0.1182,  0.0550,  0.2093],\n",
      "       device='cuda:0')\n",
      "10 (2.5012079644203187, 9.72)\n",
      "tensor([-0.3979, -0.3687,  0.0353,  0.1161,  0.5777, -0.3064, -1.2054,  0.0637,\n",
      "        -0.3847, -0.1983,  0.0743, -0.6424, -0.1504, -0.1161,  0.0622,  0.2014],\n",
      "       device='cuda:0')\n",
      "11 (2.496751506328583, 9.69)\n",
      "tensor([-0.4173, -0.3914,  0.0330,  0.1212,  0.5861, -0.3021, -1.2513,  0.0741,\n",
      "        -0.4052, -0.2006,  0.0842, -0.6795, -0.1397, -0.1185,  0.0523,  0.2160],\n",
      "       device='cuda:0')\n",
      "12 (2.4953915166854856, 9.7)\n",
      "tensor([-0.4057, -0.3739,  0.0315,  0.1177,  0.5865, -0.3200, -1.2314,  0.0632,\n",
      "        -0.3937, -0.1974,  0.0771, -0.6510, -0.1578, -0.1197,  0.0644,  0.2083],\n",
      "       device='cuda:0')\n",
      "13 (2.4996141052246093, 9.66)\n",
      "tensor([-0.4020, -0.3791,  0.0387,  0.1185,  0.5701, -0.2857, -1.2061,  0.0751,\n",
      "        -0.3897, -0.1974,  0.0784, -0.6586, -0.1305, -0.1136,  0.0498,  0.2067],\n",
      "       device='cuda:0')\n",
      "14 (2.4993416452407837, 9.71)\n",
      "tensor([-0.4217, -0.3942,  0.0387,  0.1241,  0.5987, -0.3110, -1.2701,  0.0762,\n",
      "        -0.4113, -0.2024,  0.0824, -0.6835, -0.1476, -0.1211,  0.0564,  0.2203],\n",
      "       device='cuda:0')\n",
      "15 (2.4975402426719664, 9.68)\n",
      "tensor([-0.3918, -0.3613,  0.0304,  0.1124,  0.5671, -0.3082, -1.1884,  0.0609,\n",
      "        -0.3792, -0.1913,  0.0737, -0.6312, -0.1488, -0.1161,  0.0608,  0.1981],\n",
      "       device='cuda:0')\n",
      "16 (2.5011487674713133, 9.65)\n",
      "tensor([-0.4049, -0.3738,  0.0232,  0.1140,  0.5818, -0.3198, -1.2263,  0.0565,\n",
      "        -0.3908, -0.1974,  0.0797, -0.6510, -0.1565, -0.1198,  0.0632,  0.2020],\n",
      "       device='cuda:0')\n",
      "17 (2.4979631519317627, 9.64)\n",
      "tensor([-0.3760, -0.3553,  0.0375,  0.1107,  0.5323, -0.2616, -1.1249,  0.0719,\n",
      "        -0.3633, -0.1871,  0.0732, -0.6206, -0.1163, -0.1052,  0.0451,  0.1904],\n",
      "       device='cuda:0')\n",
      "18 (2.496278088092804, 9.71)\n",
      "tensor([-0.4040, -0.3695,  0.0384,  0.1203,  0.5871, -0.3198, -1.2274,  0.0693,\n",
      "        -0.3931, -0.1969,  0.0738, -0.6471, -0.1586, -0.1186,  0.0669,  0.2124],\n",
      "       device='cuda:0')\n",
      "19 (2.494507236480713, 9.69)\n"
     ]
    }
   ],
   "source": [
    "random_model = ptcv_get_model('resnet20_cifar10', pretrained=False).cuda()\n",
    "# for n, m in random_model.named_modules():\n",
    "#     if isinstance(m, nn.BatchNorm2d):\n",
    "#         print(n)\n",
    "print(test(random_model, testloader))\n",
    "for i in range(20):\n",
    "    print(random_model.features.init_block.bn.running_mean)\n",
    "    update_bn(random_model, trainloader)\n",
    "    print(i, test(random_model, testloader))\n",
    "\n",
    "# di= DeepInversionClass(bs=inv_batchsize, net_teacher=random_model, main_teacher=teacher, path='./test')\n",
    "# di.bn_reg_scale = 1.0\n",
    "# inv_image, inv_target = di.get_images(net_student=None, \n",
    "#                                       reset_inputs=True, reset_targets=True, reset_opt=True, iterations_per_layer=4000, quant_input=False)\n",
    "\n",
    "# print(test_on_gen(teacher, inv_image, inv_target))\n",
    "# print(test_on_gen(student, inv_image, inv_target))"
   ]
  },
  {
   "cell_type": "code",
   "execution_count": 10,
   "metadata": {},
   "outputs": [
    {
     "name": "stdout",
     "output_type": "stream",
     "text": [
      "(0.1668540365062654, 95.87)\n",
      "-------------------- 2000 ------------------\n",
      "R_feature: 1.376e+01, R_cross: 1.673e-02, R_total: 1.384e+01\n",
      "-------------------- 4000 ------------------\n",
      "R_feature: 1.067e+01, R_cross: 1.725e-02, R_total: 1.074e+01\n",
      "100.0\n",
      "73.0\n"
     ]
    }
   ],
   "source": [
    "random_model = ptcv_get_model('seresnet56_cifar10', pretrained=True).cuda()\n",
    "print(test(random_model, testloader))\n",
    "# for i in range(20):\n",
    "#     update_bn(random_model, trainloader)\n",
    "#     print(i, test(random_model, testloader))\n",
    "\n",
    "di= DeepInversionClass(bs=inv_batchsize, net_teacher=random_model, main_teacher=teacher, path='./test')\n",
    "di.bn_reg_scale = 1.0\n",
    "inv_image, inv_target = di.get_images(net_student=None, \n",
    "                                      reset_inputs=True, reset_targets=True, reset_opt=True, iterations_per_layer=4000, quant_input=False)\n",
    "\n",
    "print(test_on_gen(teacher, inv_image, inv_target))\n",
    "print(test_on_gen(student, inv_image, inv_target))"
   ]
  }
 ],
 "metadata": {
  "kernelspec": {
   "display_name": "Python 3",
   "language": "python",
   "name": "python3"
  },
  "language_info": {
   "codemirror_mode": {
    "name": "ipython",
    "version": 3
   },
   "file_extension": ".py",
   "mimetype": "text/x-python",
   "name": "python",
   "nbconvert_exporter": "python",
   "pygments_lexer": "ipython3",
   "version": "3.6.10"
  }
 },
 "nbformat": 4,
 "nbformat_minor": 4
}
