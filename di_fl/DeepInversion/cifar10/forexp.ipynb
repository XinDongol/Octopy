{
 "cells": [
  {
   "cell_type": "code",
   "execution_count": 11,
   "metadata": {},
   "outputs": [
    {
     "name": "stdout",
     "output_type": "stream",
     "text": [
      "tensor([0, 1, 2, 3, 4, 5, 6, 7, 8, 9])\n",
      "tensor([10, 11, 12, 13, 14, 15, 16, 17, 18, 19])\n",
      "tensor([20, 21, 22, 23, 24, 25, 26, 27, 28, 29])\n",
      "[tensor([0, 1])]\n",
      "[tensor([2, 3])]\n",
      "[tensor([4, 5])]\n",
      "[tensor([6, 7])]\n",
      "[tensor([8, 9])]\n",
      "[tensor([10, 11])]\n",
      "[tensor([12, 13])]\n",
      "[tensor([14, 15])]\n",
      "[tensor([16, 17])]\n",
      "[tensor([18, 19])]\n",
      "[tensor([20, 21])]\n",
      "[tensor([22, 23])]\n",
      "[tensor([24, 25])]\n",
      "[tensor([26, 27])]\n",
      "[tensor([28, 29])]\n"
     ]
    }
   ],
   "source": [
    "from torch.utils.data import TensorDataset, DataLoader, ConcatDataset\n",
    "import torch\n",
    "\n",
    "datasets = []\n",
    "for i in range(3):\n",
    "    print(torch.arange(i*10, (i+1)*10))\n",
    "    datasets.append(TensorDataset(torch.arange(i*10, (i+1)*10)))\n",
    "\n",
    "dataset = ConcatDataset(datasets)\n",
    "loader = DataLoader(\n",
    "    dataset,\n",
    "    shuffle=False,\n",
    "    num_workers=0,\n",
    "    batch_size=2\n",
    ")\n",
    "\n",
    "for data in loader:\n",
    "    print(data)"
   ]
  }
 ],
 "metadata": {
  "kernelspec": {
   "display_name": "Python 3",
   "language": "python",
   "name": "python3"
  },
  "language_info": {
   "codemirror_mode": {
    "name": "ipython",
    "version": 3
   },
   "file_extension": ".py",
   "mimetype": "text/x-python",
   "name": "python",
   "nbconvert_exporter": "python",
   "pygments_lexer": "ipython3",
   "version": "3.6.10"
  }
 },
 "nbformat": 4,
 "nbformat_minor": 4
}
